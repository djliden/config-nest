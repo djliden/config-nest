{
  "nbformat": 4,
  "nbformat_minor": 5,
  "metadata": {
    "kernelspec": {
      "display_name": "Python 3",
      "language": "python",
      "name": "python3"
    },
    "language_info": {
      "codemirror_mode": {
        "name": "ipython",
        "version": 3
      },
      "file_extension": ".py",
      "mimetype": "text/x-python",
      "name": "python",
      "nbconvert_exporter": "python",
      "pygments_lexer": "ipython3",
      "version": "3.9.2"
    },
    "colab": {
      "name": "vignette.ipynb",
      "provenance": [],
      "include_colab_link": true
    }
  },
  "cells": [
    {
      "cell_type": "markdown",
      "metadata": {
        "id": "view-in-github",
        "colab_type": "text"
      },
      "source": [
        "<a href=\"https://colab.research.google.com/github/djliden/config-nest/blob/main/vignette.ipynb\" target=\"_parent\"><img src=\"https://colab.research.google.com/assets/colab-badge.svg\" alt=\"Open In Colab\"/></a>"
      ]
    },
    {
      "cell_type": "markdown",
      "metadata": {
        "id": "47f6299a"
      },
      "source": [
        "# Vignette\n",
        "A package \"vignette\" is a concept from `R` defined as a [long-form guide to your package](https://r-pkgs.org/vignettes.html). It is intended to describe the problem the package is supposed to solve and how to use the package to solve it, all with a bit more prose and narrative than typical documentation.\n",
        "\n",
        "I'm taking this `R` idea and applying it here. Notebooks happen to be the perfect medium for a vignette!\n",
        "\n",
        "# Installation\n",
        "\n",
        "Currently, this package is only installable from github. Keep an eye on this section -- the installation method (and package structure) are likely to change. But for now, this should work."
      ],
      "id": "47f6299a"
    },
    {
      "cell_type": "code",
      "metadata": {
        "id": "abe8e6fb",
        "outputId": "5902328b-65bc-4f58-ecaa-33e2f07cd838"
      },
      "source": [
        "!pip install git+https://github.com/djliden/config-nest.git"
      ],
      "id": "abe8e6fb",
      "execution_count": null,
      "outputs": [
        {
          "output_type": "stream",
          "text": [
            "Collecting git+https://github.com/djliden/config-nest.git\n",
            "  Cloning https://github.com/djliden/config-nest.git to /tmp/pip-req-build-hx12udz5\n",
            "  Running command git clone -q https://github.com/djliden/config-nest.git /tmp/pip-req-build-hx12udz5\n",
            "Requirement already satisfied: pyyaml in ./cfgenv/lib/python3.9/site-packages (from confignest==0.0.1) (5.4.1)\n",
            "Building wheels for collected packages: confignest\n",
            "  Building wheel for confignest (setup.py) ... \u001b[?25ldone\n",
            "\u001b[?25h  Created wheel for confignest: filename=confignest-0.0.1-py3-none-any.whl size=4507 sha256=06f6053fc06e815f80e4e29d5234ababe07511af283ef08566f095d3771f42d6\n",
            "  Stored in directory: /tmp/pip-ephem-wheel-cache-ukrqngq1/wheels/29/69/48/50dde3920f402fc55419a3f1320199ea8556e31ed2e41417a6\n",
            "Successfully built confignest\n",
            "Installing collected packages: confignest\n",
            "  Attempting uninstall: confignest\n",
            "    Found existing installation: confignest 0.0.1\n",
            "    Uninstalling confignest-0.0.1:\n",
            "      Successfully uninstalled confignest-0.0.1\n",
            "Successfully installed confignest-0.0.1\n"
          ],
          "name": "stdout"
        }
      ]
    },
    {
      "cell_type": "markdown",
      "metadata": {
        "id": "794c240b"
      },
      "source": [
        "# Setup\n",
        "\n",
        "Here we import the package, make a couple of sample configurations, and make our first `Config`!"
      ],
      "id": "794c240b"
    },
    {
      "cell_type": "code",
      "metadata": {
        "id": "43661aff"
      },
      "source": [
        "import confignest.confignest"
      ],
      "id": "43661aff",
      "execution_count": null,
      "outputs": []
    },
    {
      "cell_type": "code",
      "metadata": {
        "id": "f7549b71",
        "outputId": "e32ef10f-52a6-46a3-fccc-cc80a57582c7"
      },
      "source": [
        "config = {'A': 41, 'B': {'C': 22, 'D': 5}, 'C': \"To Be Overwritten\"}\n",
        "config"
      ],
      "id": "f7549b71",
      "execution_count": null,
      "outputs": [
        {
          "output_type": "execute_result",
          "data": {
            "text/plain": [
              "{'A': 41, 'B': {'C': 22, 'D': 5}, 'C': 'To Be Overwritten'}"
            ]
          },
          "metadata": {
            "tags": []
          },
          "execution_count": 4
        }
      ]
    },
    {
      "cell_type": "code",
      "metadata": {
        "id": "97614f81",
        "outputId": "4a06161b-b1f4-4572-ea0b-acf765a28c10"
      },
      "source": [
        "cfg = confignest.confignest.Config(config)\n",
        "cfg"
      ],
      "id": "97614f81",
      "execution_count": null,
      "outputs": [
        {
          "output_type": "execute_result",
          "data": {
            "text/plain": [
              "Config Object with Keys:\n",
              "A: 41\n",
              "B:\n",
              "  C: 22\n",
              "  D: 5\n",
              "C: To Be Overwritten"
            ]
          },
          "metadata": {
            "tags": []
          },
          "execution_count": 6
        }
      ]
    },
    {
      "cell_type": "code",
      "metadata": {
        "id": "24b9fa91",
        "outputId": "bae3a14f-737c-4fdf-da1d-d4586017162c"
      },
      "source": [
        "cfg.B"
      ],
      "id": "24b9fa91",
      "execution_count": null,
      "outputs": [
        {
          "output_type": "execute_result",
          "data": {
            "text/plain": [
              "Config Object with Keys:\n",
              "C: 22\n",
              "D: 5"
            ]
          },
          "metadata": {
            "tags": []
          },
          "execution_count": 7
        }
      ]
    },
    {
      "cell_type": "code",
      "metadata": {
        "id": "1b449545",
        "outputId": "a970e211-8d7f-46a9-8211-ec9f93ec0137"
      },
      "source": [
        "cfg.B.config"
      ],
      "id": "1b449545",
      "execution_count": null,
      "outputs": [
        {
          "output_type": "execute_result",
          "data": {
            "text/plain": [
              "{'C': 22, 'D': 5}"
            ]
          },
          "metadata": {
            "tags": []
          },
          "execution_count": 8
        }
      ]
    },
    {
      "cell_type": "code",
      "metadata": {
        "id": "25a41b96",
        "outputId": "3bcdebf7-95b9-4aa2-c7ef-603d4ff16983"
      },
      "source": [
        "new_config = {'C': 'This value has been overwritten!'}\n",
        "cfg.update_config(new_config)\n",
        "cfg"
      ],
      "id": "25a41b96",
      "execution_count": null,
      "outputs": [
        {
          "output_type": "execute_result",
          "data": {
            "text/plain": [
              "Config Object with Keys:\n",
              "A: 41\n",
              "B:\n",
              "  C: 22\n",
              "  D: 5\n",
              "C: This value has been overwritten!"
            ]
          },
          "metadata": {
            "tags": []
          },
          "execution_count": 9
        }
      ]
    },
    {
      "cell_type": "code",
      "metadata": {
        "id": "7cdeb63a",
        "outputId": "06047d3f-877d-44e7-84a9-63eb403ff57f"
      },
      "source": [
        "cfg.D = \"Can't do this!\""
      ],
      "id": "7cdeb63a",
      "execution_count": null,
      "outputs": [
        {
          "output_type": "error",
          "ename": "TypeError",
          "evalue": " Directly adding new attributes to a Configuration  object using dot\nnotation is not supported. Please use  the update_config() method",
          "traceback": [
            "\u001b[0;31m---------------------------------------------------------------------------\u001b[0m",
            "\u001b[0;31mTypeError\u001b[0m                                 Traceback (most recent call last)",
            "\u001b[0;32m<ipython-input-10-2383266270a1>\u001b[0m in \u001b[0;36m<module>\u001b[0;34m\u001b[0m\n\u001b[0;32m----> 1\u001b[0;31m \u001b[0mcfg\u001b[0m\u001b[0;34m.\u001b[0m\u001b[0mD\u001b[0m \u001b[0;34m=\u001b[0m \u001b[0;34m\"Can't do this!\"\u001b[0m\u001b[0;34m\u001b[0m\u001b[0;34m\u001b[0m\u001b[0m\n\u001b[0m",
            "\u001b[0;32m~/git/projects/config-nest/confignest/confignest.py\u001b[0m in \u001b[0;36m__setattr__\u001b[0;34m(self, key, value)\u001b[0m\n\u001b[1;32m     15\u001b[0m         \"\"\"\n\u001b[1;32m     16\u001b[0m         \u001b[0;32mif\u001b[0m \u001b[0mself\u001b[0m\u001b[0;34m.\u001b[0m\u001b[0m__isFrozen\u001b[0m \u001b[0;32mand\u001b[0m \u001b[0;32mnot\u001b[0m \u001b[0mhasattr\u001b[0m\u001b[0;34m(\u001b[0m\u001b[0mself\u001b[0m\u001b[0;34m,\u001b[0m \u001b[0mkey\u001b[0m\u001b[0;34m)\u001b[0m\u001b[0;34m:\u001b[0m\u001b[0;34m\u001b[0m\u001b[0;34m\u001b[0m\u001b[0m\n\u001b[0;32m---> 17\u001b[0;31m             raise TypeError(textwrap.fill(textwrap.dedent(\"\"\"\n\u001b[0m\u001b[1;32m     18\u001b[0m             \u001b[0mDirectly\u001b[0m \u001b[0madding\u001b[0m \u001b[0mnew\u001b[0m \u001b[0mattributes\u001b[0m \u001b[0mto\u001b[0m \u001b[0ma\u001b[0m \u001b[0mConfiguration\u001b[0m\u001b[0;34m\u001b[0m\u001b[0;34m\u001b[0m\u001b[0m\n\u001b[1;32m     19\u001b[0m             \u001b[0mobject\u001b[0m \u001b[0musing\u001b[0m \u001b[0mdot\u001b[0m \u001b[0mnotation\u001b[0m \u001b[0;32mis\u001b[0m \u001b[0;32mnot\u001b[0m \u001b[0msupported\u001b[0m\u001b[0;34m.\u001b[0m \u001b[0mPlease\u001b[0m \u001b[0muse\u001b[0m\u001b[0;34m\u001b[0m\u001b[0;34m\u001b[0m\u001b[0m\n",
            "\u001b[0;31mTypeError\u001b[0m:  Directly adding new attributes to a Configuration  object using dot\nnotation is not supported. Please use  the update_config() method"
          ]
        }
      ]
    },
    {
      "cell_type": "code",
      "metadata": {
        "id": "2ba46a24"
      },
      "source": [
        ""
      ],
      "id": "2ba46a24",
      "execution_count": null,
      "outputs": []
    }
  ]
}